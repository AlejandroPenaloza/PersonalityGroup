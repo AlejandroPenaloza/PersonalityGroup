{
 "cells": [
  {
   "cell_type": "markdown",
   "metadata": {
    "colab_type": "text",
    "id": "NCK6cfewHzbV"
   },
   "source": [
    "# PersonalityGroup"
   ]
  },
  {
   "cell_type": "markdown",
   "metadata": {
    "colab_type": "text",
    "id": "lIUUfVPkWFz7"
   },
   "source": [
    "## Importing and setting up the Dataset"
   ]
  },
  {
   "cell_type": "code",
   "execution_count": null,
   "metadata": {
    "colab": {},
    "colab_type": "code",
    "id": "vopFmrHMDL8r"
   },
   "outputs": [],
   "source": [
    "import numpy as np\n",
    "import pandas as pd\n",
    "import scipy.stats\n",
    "import seaborn as sns\n",
    "import matplotlib.pyplot as plt\n",
    "%matplotlib inline\n",
    "import plotly\n",
    "import plotly.graph_objs as go\n",
    "from sklearn.preprocessing import StandardScaler\n",
    "from sklearn import preprocessing\n",
    "from sklearn.cluster import KMeans\n",
    "from sklearn.cluster import *\n",
    "from sklearn.cluster import DBSCAN"
   ]
  },
  {
   "cell_type": "code",
   "execution_count": null,
   "metadata": {
    "colab": {
     "base_uri": "https://localhost:8080/",
     "height": 423
    },
    "colab_type": "code",
    "id": "RtajYOi1DRtj",
    "outputId": "25770b44-4d0b-4ee5-b8b2-98818a5eb03e"
   },
   "outputs": [],
   "source": [
    "traits_survey_complete = pd.read_csv('C:/Users/aleja/Downloads/516764_951745_bundle_archive/IPIP-FFM-data-8Nov2018/data-final.csv', sep='\\t')\n",
    "traits_survey = traits_survey_complete.sample(80000)\n",
    "traits_survey.head()"
   ]
  },
  {
   "cell_type": "code",
   "execution_count": null,
   "metadata": {
    "colab": {
     "base_uri": "https://localhost:8080/",
     "height": 440
    },
    "colab_type": "code",
    "id": "omUjQIM8DV5T",
    "outputId": "0c65bf04-cc61-4cc7-aa94-d1520ef664d4"
   },
   "outputs": [],
   "source": [
    "traits_survey = traits_survey.reset_index()\n",
    "traits_survey.drop(columns=['index'], inplace=True)\n",
    "print(traits_survey.shape)\n",
    "traits_survey.head()"
   ]
  },
  {
   "cell_type": "markdown",
   "metadata": {
    "colab_type": "text",
    "id": "ZF435AqfHvo1"
   },
   "source": [
    "## Exploratory Data Analysis"
   ]
  },
  {
   "cell_type": "code",
   "execution_count": null,
   "metadata": {
    "colab": {
     "base_uri": "https://localhost:8080/",
     "height": 221
    },
    "colab_type": "code",
    "id": "Al3bCt0Zfxrg",
    "outputId": "fa383d3c-486f-4299-bfe2-a46ddcca1df7"
   },
   "outputs": [],
   "source": [
    "traits_survey.dtypes"
   ]
  },
  {
   "cell_type": "code",
   "execution_count": null,
   "metadata": {
    "colab": {
     "base_uri": "https://localhost:8080/",
     "height": 34
    },
    "colab_type": "code",
    "id": "MPCJPsC0Zuil",
    "outputId": "5f1b1e91-b30f-472f-ac49-d54413d12210"
   },
   "outputs": [],
   "source": [
    "number_traits_questions = traits_survey.columns.get_loc('OPN10')\n",
    "number_traits_questions"
   ]
  },
  {
   "cell_type": "code",
   "execution_count": null,
   "metadata": {
    "colab": {
     "base_uri": "https://localhost:8080/",
     "height": 136
    },
    "colab_type": "code",
    "id": "e2DIgcefWiCm",
    "outputId": "5c7b664f-92e6-421f-c460-f857457f00e9"
   },
   "outputs": [],
   "source": [
    "pers_traits_questions = traits_survey.columns[: number_traits_questions + 1]\n",
    "pers_traits_questions"
   ]
  },
  {
   "cell_type": "code",
   "execution_count": null,
   "metadata": {
    "colab": {
     "base_uri": "https://localhost:8080/",
     "height": 1000
    },
    "colab_type": "code",
    "id": "5RBsLGsPYHy_",
    "outputId": "94c75c34-db63-43e2-c7c2-db447df7d935"
   },
   "outputs": [],
   "source": [
    "for col in pers_traits_questions:\n",
    "    print(traits_survey[col].value_counts())"
   ]
  },
  {
   "cell_type": "markdown",
   "metadata": {
    "colab_type": "text",
    "id": "EWE32mYWXeMY"
   },
   "source": [
    "The first 50 columns of traits_survey corresponds to the questions made according to the Big Five Personality Traits, so their values (responses) are 0., 1., 2., 3., 4. or 5., given that the answers were asked for in that scale."
   ]
  },
  {
   "cell_type": "code",
   "execution_count": null,
   "metadata": {
    "colab": {
     "base_uri": "https://localhost:8080/",
     "height": 317
    },
    "colab_type": "code",
    "id": "Tvw3fnWNYGs6",
    "outputId": "1cce4937-52a0-49be-c038-1369676f0e04"
   },
   "outputs": [],
   "source": [
    "traits_questions_data = traits_survey[pers_traits_questions]\n",
    "traits_questions_data.describe()"
   ]
  },
  {
   "cell_type": "markdown",
   "metadata": {
    "colab_type": "text",
    "id": "xyU0JjNEoGEo"
   },
   "source": [
    "The following 50 columns correspond to the time lapses it took for each person to answer."
   ]
  },
  {
   "cell_type": "code",
   "execution_count": null,
   "metadata": {
    "colab": {
     "base_uri": "https://localhost:8080/",
     "height": 439
    },
    "colab_type": "code",
    "id": "g-LJbYYZobpL",
    "outputId": "fbeafe2d-2d8a-49b8-89d0-1dedd69dee18"
   },
   "outputs": [],
   "source": [
    "times_per_questions = traits_survey[traits_survey.columns[\n",
    "number_traits_questions + 1: traits_survey.columns.get_loc('OPN10_E') + 1]]\n",
    "times_per_questions"
   ]
  },
  {
   "cell_type": "code",
   "execution_count": null,
   "metadata": {
    "colab": {
     "base_uri": "https://localhost:8080/",
     "height": 317
    },
    "colab_type": "code",
    "id": "TJKrXxzcqZ0Z",
    "outputId": "03dccb9c-9fec-4b16-ec97-4edfd7c354ef"
   },
   "outputs": [],
   "source": [
    "times_per_questions.describe()"
   ]
  },
  {
   "cell_type": "code",
   "execution_count": null,
   "metadata": {
    "colab": {
     "base_uri": "https://localhost:8080/",
     "height": 388
    },
    "colab_type": "code",
    "id": "NZxlGB7GqZwm",
    "outputId": "2aac0c84-924a-4694-d8b3-e61602cbf73f"
   },
   "outputs": [],
   "source": [
    "fig, ax = plt.subplots(nrows=1, ncols=5, figsize = (17, 6))\n",
    "sns.distplot(traits_survey['EXT1'], ax=ax[0])\n",
    "sns.distplot(traits_survey['EST1'],ax=ax[1])\n",
    "sns.distplot(traits_survey['AGR1'], ax=ax[2])\n",
    "sns.distplot(traits_survey['CSN1'], ax=ax[3])\n",
    "sns.distplot(traits_survey['OPN1'], ax=ax[4])\n",
    "plt.show()"
   ]
  },
  {
   "cell_type": "code",
   "execution_count": null,
   "metadata": {
    "colab": {
     "base_uri": "https://localhost:8080/",
     "height": 221
    },
    "colab_type": "code",
    "id": "Zif2CH8YwEJo",
    "outputId": "f59d0b01-d7a9-4c78-e562-24dde3d4cec5"
   },
   "outputs": [],
   "source": [
    "times_per_questions['EXT1_E'].value_counts()"
   ]
  },
  {
   "cell_type": "code",
   "execution_count": null,
   "metadata": {
    "colab": {
     "base_uri": "https://localhost:8080/",
     "height": 419
    },
    "colab_type": "code",
    "id": "DjT35XrPnFUU",
    "outputId": "6ff7e115-212f-4d1d-80a1-fb87f816ad07"
   },
   "outputs": [],
   "source": [
    "int_data = np.array(np.where(traits_survey.dtypes == int)).flatten()\n",
    "traits_survey.iloc[:,int_data]"
   ]
  },
  {
   "cell_type": "code",
   "execution_count": null,
   "metadata": {
    "colab": {},
    "colab_type": "code",
    "id": "XYvs_5DwoBL7"
   },
   "outputs": [],
   "source": [
    "traits_survey['endelapse'] = traits_survey['endelapse'].astype('float')\n",
    "traits_survey['IPC'] = traits_survey['IPC'].astype('float')"
   ]
  },
  {
   "cell_type": "code",
   "execution_count": null,
   "metadata": {
    "colab": {
     "base_uri": "https://localhost:8080/",
     "height": 35
    },
    "colab_type": "code",
    "id": "Hi9Bq6zaiy8i",
    "outputId": "3572733f-f771-4966-bec3-eb92b87c1d7b"
   },
   "outputs": [],
   "source": [
    "'''numeric_data = np.array(np.where(traits_survey.dtypes == float)).flatten()\n",
    "numeric_data'''"
   ]
  },
  {
   "cell_type": "code",
   "execution_count": null,
   "metadata": {
    "colab": {
     "base_uri": "https://localhost:8080/",
     "height": 1000
    },
    "colab_type": "code",
    "id": "vCTUPiYNkeU3",
    "outputId": "cbabb990-5025-4c5b-ae03-dea0e5a62010"
   },
   "outputs": [],
   "source": [
    "f_cols = []\n",
    "for i in range(traits_survey.shape[1]):\n",
    "    if pd.DataFrame(traits_survey.dtypes).reset_index()[0][i] == 'float':\n",
    "        f_cols.append(pd.DataFrame(traits_survey.dtypes).reset_index()['index'][i])\n",
    "f_cols"
   ]
  },
  {
   "cell_type": "code",
   "execution_count": null,
   "metadata": {
    "colab": {
     "base_uri": "https://localhost:8080/",
     "height": 439
    },
    "colab_type": "code",
    "id": "hNy34TgwqPut",
    "outputId": "f603444a-f8b2-441b-9052-2069bd66970f"
   },
   "outputs": [],
   "source": [
    "numeric_data = traits_survey[f_cols]\n",
    "numeric_data.corr()"
   ]
  },
  {
   "cell_type": "code",
   "execution_count": null,
   "metadata": {
    "colab": {
     "base_uri": "https://localhost:8080/",
     "height": 1000
    },
    "colab_type": "code",
    "id": "CgI15mJ4UM_A",
    "outputId": "041302e9-7003-4c1a-cd1b-4e7b90d22ebc"
   },
   "outputs": [],
   "source": [
    "plt.figure(figsize=(30.0, 30.0))\n",
    "sns.heatmap(numeric_data.corr(), annot=True)"
   ]
  },
  {
   "cell_type": "code",
   "execution_count": null,
   "metadata": {
    "colab": {
     "base_uri": "https://localhost:8080/",
     "height": 85
    },
    "colab_type": "code",
    "id": "aC4nlpE5nu_z",
    "outputId": "7b615eb9-f2a1-4bba-9712-d1f57ad28102"
   },
   "outputs": [],
   "source": [
    "traits_survey.columns[traits_survey.columns.get_loc('OPN10_E') + 1:]"
   ]
  },
  {
   "cell_type": "code",
   "execution_count": null,
   "metadata": {
    "colab": {
     "base_uri": "https://localhost:8080/",
     "height": 221
    },
    "colab_type": "code",
    "id": "FkzZATxyIAxd",
    "outputId": "369fd502-310a-4993-fc7b-471fa347a2e1"
   },
   "outputs": [],
   "source": [
    "traits_survey['dateload'].value_counts()"
   ]
  },
  {
   "cell_type": "code",
   "execution_count": null,
   "metadata": {
    "colab": {},
    "colab_type": "code",
    "id": "Vdkm8Ib6L7Ud"
   },
   "outputs": [],
   "source": [
    "# dateload column will be dropped due to the timestamp does not represent a trivial feature for the outcome"
   ]
  },
  {
   "cell_type": "code",
   "execution_count": null,
   "metadata": {
    "colab": {},
    "colab_type": "code",
    "id": "F4-ppGk4Inuj"
   },
   "outputs": [],
   "source": [
    "traits_survey.drop(columns=['dateload'], inplace=True)"
   ]
  },
  {
   "cell_type": "code",
   "execution_count": null,
   "metadata": {
    "colab": {
     "base_uri": "https://localhost:8080/",
     "height": 313
    },
    "colab_type": "code",
    "id": "KGJdXDbiMPmU",
    "outputId": "914ea071-111b-458a-e10e-a193008243c0"
   },
   "outputs": [],
   "source": [
    "print(len(traits_survey['screenw'].value_counts()))\n",
    "sns.boxplot(traits_survey['screenw'], whis=3.5)"
   ]
  },
  {
   "cell_type": "code",
   "execution_count": null,
   "metadata": {
    "colab": {},
    "colab_type": "code",
    "id": "eoSN4BdrRG9f"
   },
   "outputs": [],
   "source": [
    "# screenw and screenh will be dropped as well due to they are the width and height of the screen in pixels\n",
    "# respectively where the survey was done\n",
    "\n",
    "traits_survey.drop(columns=['screenw', 'screenh'], inplace=True)"
   ]
  },
  {
   "cell_type": "code",
   "execution_count": null,
   "metadata": {
    "colab": {
     "base_uri": "https://localhost:8080/",
     "height": 35
    },
    "colab_type": "code",
    "id": "iiY9I819s4qF",
    "outputId": "0fe69416-f9b0-4c27-aa38-19525777ad6f"
   },
   "outputs": [],
   "source": [
    "'''ctgr_cols_ind = np.where(traits_survey.dtypes != float)\n",
    "traits_survey.columns[ctgr_cols_ind[0][0] : ctgr_cols_ind[0][0] + 3]'''"
   ]
  },
  {
   "cell_type": "code",
   "execution_count": null,
   "metadata": {
    "colab": {
     "base_uri": "https://localhost:8080/",
     "height": 34
    },
    "colab_type": "code",
    "id": "wRZfhj9OtReD",
    "outputId": "6258868f-8a2b-48f1-928b-c4b9ba09469f"
   },
   "outputs": [],
   "source": [
    "cols_list = []\n",
    "for ind in np.where(traits_survey.dtypes != float):\n",
    "    cols_list.append(traits_survey.columns[ind])\n",
    "ctgr_cols = cols_list[0]\n",
    "ctgr_cols"
   ]
  },
  {
   "cell_type": "code",
   "execution_count": null,
   "metadata": {
    "colab": {
     "base_uri": "https://localhost:8080/",
     "height": 813
    },
    "colab_type": "code",
    "id": "I7xRdJYFuDMD",
    "outputId": "ff7a8b43-66c9-417b-e6ca-0f03f2ba7158"
   },
   "outputs": [],
   "source": [
    "print(traits_survey.country.value_counts())\n",
    "sns.boxplot(traits_survey['country'])"
   ]
  },
  {
   "cell_type": "code",
   "execution_count": null,
   "metadata": {
    "colab": {
     "base_uri": "https://localhost:8080/",
     "height": 221
    },
    "colab_type": "code",
    "id": "yYBL82GBvnYa",
    "outputId": "f86138d5-0d64-4c63-9e4a-6c3cd8a1d985"
   },
   "outputs": [],
   "source": [
    "pd.DataFrame(traits_survey.isnull().sum()).reset_index()['index']"
   ]
  },
  {
   "cell_type": "code",
   "execution_count": null,
   "metadata": {
    "colab": {
     "base_uri": "https://localhost:8080/",
     "height": 34
    },
    "colab_type": "code",
    "id": "BixKlxkWzf1i",
    "outputId": "299d6ee5-f57d-4ea4-bf90-0cfff8f4c258"
   },
   "outputs": [],
   "source": [
    "traits_survey.dropna(inplace=True)\n",
    "traits_survey.shape"
   ]
  },
  {
   "cell_type": "markdown",
   "metadata": {
    "colab_type": "text",
    "id": "poufSvxYWcQg"
   },
   "source": [
    "## Data Preprocessing"
   ]
  },
  {
   "cell_type": "code",
   "execution_count": null,
   "metadata": {
    "colab": {},
    "colab_type": "code",
    "id": "_UVmEYQ9N3gD"
   },
   "outputs": [],
   "source": [
    "for ind in np.where(traits_survey.dtypes == object):\n",
    "  \n",
    "  print(traits_survey.columns[ind])"
   ]
  },
  {
   "cell_type": "code",
   "execution_count": null,
   "metadata": {
    "colab": {
     "base_uri": "https://localhost:8080/",
     "height": 419
    },
    "colab_type": "code",
    "id": "UoFl5tXMO_S_",
    "outputId": "b7dba957-f85c-42a2-a711-5d831b22cd1a"
   },
   "outputs": [],
   "source": [
    "ctgr_data = traits_survey[ctgr_cols]\n",
    "ctgr_data"
   ]
  },
  {
   "cell_type": "code",
   "execution_count": null,
   "metadata": {
    "colab": {
     "base_uri": "https://localhost:8080/",
     "height": 439
    },
    "colab_type": "code",
    "id": "OdMfXKMsxjj8",
    "outputId": "34bd8815-cd02-4002-e641-6f237d4ed3b3"
   },
   "outputs": [],
   "source": [
    "dummy_ctgr_data = pd.get_dummies(ctgr_data)\n",
    "dummy_ctgr_data"
   ]
  },
  {
   "cell_type": "code",
   "execution_count": null,
   "metadata": {
    "colab": {
     "base_uri": "https://localhost:8080/",
     "height": 439
    },
    "colab_type": "code",
    "id": "O4PuZHyUxm-u",
    "outputId": "112c3b1e-2336-4ba0-b739-ab0096260c34"
   },
   "outputs": [],
   "source": [
    "stand_data = pd.DataFrame(preprocessing.scale(numeric_data))\n",
    "stand_data"
   ]
  },
  {
   "cell_type": "code",
   "execution_count": null,
   "metadata": {
    "colab": {
     "base_uri": "https://localhost:8080/",
     "height": 253
    },
    "colab_type": "code",
    "id": "nW9R_bB3htf-",
    "outputId": "e9167d9d-3b59-4e89-ac8d-832c48bd6819"
   },
   "outputs": [],
   "source": [
    "X = pd.concat([stand_data, ctgr_data], axis=1)\n",
    "X.head()"
   ]
  },
  {
   "cell_type": "markdown",
   "metadata": {
    "colab_type": "text",
    "id": "7E91X24LXMmJ"
   },
   "source": [
    "## K-Means Clustering"
   ]
  },
  {
   "cell_type": "code",
   "execution_count": null,
   "metadata": {
    "colab": {
     "base_uri": "https://localhost:8080/",
     "height": 323
    },
    "colab_type": "code",
    "id": "6w8wVYc9XUgq",
    "outputId": "ad0d4c3a-df01-4700-b360-e722915dfa8f"
   },
   "outputs": [],
   "source": [
    "model = KMeans(n_clusters=2, init='random')\n",
    "clusters = model.fit(X)"
   ]
  },
  {
   "cell_type": "code",
   "execution_count": null,
   "metadata": {
    "colab": {},
    "colab_type": "code",
    "id": "3sdoVwjLkE1g"
   },
   "outputs": [],
   "source": [
    "X.head()"
   ]
  },
  {
   "cell_type": "code",
   "execution_count": null,
   "metadata": {
    "colab": {},
    "colab_type": "code",
    "id": "W5PMsb2skMqL"
   },
   "outputs": [],
   "source": [
    "cluster_numbers = clusters.predict(X)\n",
    "cluster_numbers"
   ]
  },
  {
   "cell_type": "code",
   "execution_count": null,
   "metadata": {
    "colab": {},
    "colab_type": "code",
    "id": "FFmX0w77lEBs"
   },
   "outputs": [],
   "source": [
    "traits_survey['Cluster'] = cluster_numbers\n",
    "traits_survey['Cluster'].value_counts()"
   ]
  },
  {
   "cell_type": "code",
   "execution_count": null,
   "metadata": {
    "colab": {},
    "colab_type": "code",
    "id": "VhQiewSMmlXs"
   },
   "outputs": [],
   "source": [
    "traits_survey[traits_survey['Cluster'] == 1].head()"
   ]
  },
  {
   "cell_type": "code",
   "execution_count": null,
   "metadata": {
    "colab": {},
    "colab_type": "code",
    "id": "bxA20Fl7uZJ-"
   },
   "outputs": [],
   "source": [
    "def clust_scatterplot(df, x, y, hue):\n",
    "    plt.figure(figsize=(10, 8))\n",
    "    sns.scatterplot(data=df, x=x, y=y, hue=hue, style=hue)"
   ]
  },
  {
   "cell_type": "code",
   "execution_count": null,
   "metadata": {
    "colab": {},
    "colab_type": "code",
    "id": "DhvvW8Btcuej"
   },
   "outputs": [],
   "source": [
    "# An average of each set of questions will be done for \n",
    "# representing every 'Big Five Personality Trait'\n",
    "\n",
    "\n",
    "def recurs(trait, n=10):\n",
    "  if n == 1:\n",
    "    return traits_survey[trait + '1']\n",
    "  else:\n",
    "    return traits_survey[trait + str(n)] + recurs(trait, n-1)\n",
    "\n",
    "\n",
    "for trait in ['EXT', 'EST', 'AGR', 'CSN', 'OPN']:\n",
    "    traits_survey[trait + '_m'] = recurs(trait)/10"
   ]
  },
  {
   "cell_type": "code",
   "execution_count": null,
   "metadata": {
    "colab": {},
    "colab_type": "code",
    "id": "xa3cxHC8vLO7"
   },
   "outputs": [],
   "source": [
    "clust_scatterplot(traits_survey, 'EXT_m', 'OPN_m', cluster_numbers)"
   ]
  },
  {
   "cell_type": "markdown",
   "metadata": {
    "colab_type": "text",
    "id": "q2alfAoFf3dj"
   },
   "source": [
    "### Determining optimal number of clusters"
   ]
  },
  {
   "cell_type": "code",
   "execution_count": null,
   "metadata": {
    "colab": {},
    "colab_type": "code",
    "id": "JLkQKc_ae_AI"
   },
   "outputs": [],
   "source": [
    "X1 = pd.concat([stand_data, ctgr_data], axis=1)\n",
    "clusters1 = KMeans(n_clusters=2, n_init=10, init=\"random\").fit(X1)"
   ]
  },
  {
   "cell_type": "code",
   "execution_count": null,
   "metadata": {
    "colab": {},
    "colab_type": "code",
    "id": "hqgryUtVgFWj"
   },
   "outputs": [],
   "source": [
    "clusters1.inertia_"
   ]
  },
  {
   "cell_type": "code",
   "execution_count": null,
   "metadata": {
    "colab": {},
    "colab_type": "code",
    "id": "I3uJRFJjgJUk"
   },
   "outputs": [],
   "source": [
    "results = []\n",
    "for i in range(1,10):\n",
    "    Xn = pd.concat([stand_data, ctgr_data], axis=1)\n",
    "    clustersn = KMeans(n_clusters=i, n_init=10, init=\"random\").fit(Xn)\n",
    "    results.append({\"n\": i, \"inertia\": clustersn.inertia_})\n",
    "elbow_plot = pd.DataFrame(results)"
   ]
  },
  {
   "cell_type": "code",
   "execution_count": null,
   "metadata": {
    "colab": {},
    "colab_type": "code",
    "id": "L1uoeC2lgZAW"
   },
   "outputs": [],
   "source": [
    "elbow_plot"
   ]
  },
  {
   "cell_type": "code",
   "execution_count": null,
   "metadata": {
    "colab": {},
    "colab_type": "code",
    "id": "1Y5495oQgdXc"
   },
   "outputs": [],
   "source": [
    "results"
   ]
  },
  {
   "cell_type": "code",
   "execution_count": null,
   "metadata": {
    "colab": {},
    "colab_type": "code",
    "id": "iM0mQB6ZgdUa"
   },
   "outputs": [],
   "source": [
    "plt.figure(figsize=(12,8))\n",
    "sns.lineplot(data=elbow_plot, x=\"n\", y=\"inertia\")\n",
    "plt.title(\"Optimal Number of Clusters\")"
   ]
  },
  {
   "cell_type": "code",
   "execution_count": null,
   "metadata": {
    "colab": {},
    "colab_type": "code",
    "id": "28Zfncjagjsz"
   },
   "outputs": [],
   "source": [
    "def plot_elbow(df, dims):\n",
    "    results = []\n",
    "    for i in range(1,10):\n",
    "        Xn = df[dims]\n",
    "        clustersn = KMeans(n_clusters=i, n_init=10, init=\"random\").fit(Xn)\n",
    "        results.append({\"n\": i+1, \"inertia\": clustersn.inertia_})\n",
    "    elbow_plot = pd.DataFrame(results)\n",
    "    \n",
    "    plt.figure(figsize=(12,8))\n",
    "    sns.lineplot(data=elbow_plot, x=\"n\", y=\"inertia\")\n",
    "    plt.title(\"Optimal Number of Clusters\")"
   ]
  },
  {
   "cell_type": "code",
   "execution_count": null,
   "metadata": {
    "colab": {},
    "colab_type": "code",
    "id": "g4qploOlgv-e"
   },
   "outputs": [],
   "source": [
    "plot_elbow(df, ['EXT_m', 'EST_m', 'CSN_m', 'AGR_m', 'OPN_m'])"
   ]
  },
  {
   "cell_type": "code",
   "execution_count": null,
   "metadata": {
    "colab": {},
    "colab_type": "code",
    "id": "NTxzUvuxhaTb"
   },
   "outputs": [],
   "source": [
    "def cluster_2d(df, x, y, n_clusters):\n",
    "    X_n = df[[x, y]]\n",
    "    clusters = KMeans(n_clusters=n_clusters, n_init=10, init=\"random\").fit(X_n)\n",
    "    clust_scatterplot(df, x, y, clusters.predict(X_n))"
   ]
  },
  {
   "cell_type": "code",
   "execution_count": null,
   "metadata": {
    "colab": {},
    "colab_type": "code",
    "id": "h0MnDMUChmVv"
   },
   "outputs": [],
   "source": [
    "cluster_2d(traits_survey, 'EXT_m', 'OPN_m', 4)"
   ]
  }
 ],
 "metadata": {
  "colab": {
   "collapsed_sections": [],
   "name": "PersonalityGroup",
   "provenance": [],
   "toc_visible": true
  },
  "kernelspec": {
   "display_name": "Python 3",
   "language": "python",
   "name": "python3"
  },
  "language_info": {
   "codemirror_mode": {
    "name": "ipython",
    "version": 3
   },
   "file_extension": ".py",
   "mimetype": "text/x-python",
   "name": "python",
   "nbconvert_exporter": "python",
   "pygments_lexer": "ipython3",
   "version": "3.7.3"
  }
 },
 "nbformat": 4,
 "nbformat_minor": 1
}
